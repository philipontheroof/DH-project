{
 "cells": [
  {
   "cell_type": "code",
   "execution_count": 12,
   "metadata": {},
   "outputs": [],
   "source": [
    "from konlpy.tag import Kkma, Hannanum, Komoran, Okt    # 형태소 분석기 모듈(Hannanum, Kkma, Komoran, Okt)을 탑재\n",
    "from tqdm.notebook import tqdm\n",
    "import pandas as pd\n",
    "from hanja.impl import is_hanja as is_hanja\n",
    "from hanja.hangul import is_hangul as is_hangul"
   ]
  },
  {
   "cell_type": "code",
   "execution_count": 46,
   "metadata": {},
   "outputs": [],
   "source": [
    "class Word:\n",
    "    def __init__(self, hangul, hanja):\n",
    "        self.hangul = hangul\n",
    "        self.hanja = hanja\n",
    "        if hanja is not None:\n",
    "            self.is_hanja = True\n",
    "        else:\n",
    "            self.is_hanja = False\n",
    "    \n",
    "\n",
    "    def set_hanja(self, hanja):\n",
    "        self.hanja = hanja\n",
    "        if hanja is not None:\n",
    "            self.is_hanja = True\n",
    "        else:\n",
    "            self.is_hanja = False\n",
    "        self.is_hanja = True\n",
    "    \n",
    "\n",
    "    def __repr__(self):\n",
    "        return f'Word({self.hangul}, {self.hanja})'\n",
    "\n",
    "\n",
    "class WordWithPOS(Word):\n",
    "    def __init__(self, hangul, hanja, pos):\n",
    "        super().__init__(hangul, hanja)\n",
    "        self.pos = pos\n",
    "\n",
    "\n",
    "    def set_pos(self, pos):\n",
    "        self.pos = pos\n",
    "    \n",
    "\n",
    "    def __repr__(self):\n",
    "        return f'WordWithPOS({self.hangul}, {self.hanja}, {self.pos})'"
   ]
  },
  {
   "cell_type": "code",
   "execution_count": 7,
   "metadata": {},
   "outputs": [],
   "source": [
    "df = pd.read_parquet('./data/chosun_1990.parquet')\n",
    "data = df.loc[:, 'body_archaic_hangul']"
   ]
  },
  {
   "cell_type": "code",
   "execution_count": 9,
   "metadata": {},
   "outputs": [
    {
     "data": {
      "text/plain": [
       "0     전두환(全斗煥)씨 국회(国会)증언 요지\\n\"계엄군(軍) 강경진압 광주(光州)사태 주...\n",
       "1     ◇기자(記者)회견하는 전(全)씨\\n 전두환(全斗煥) 전(前)대통령이 31일 자정직전...\n",
       "2     4당(党)-재야(在野)의 새로운\"헤쳐모여\"관건\\n청산(清算)이후의 90년정국(政局)...\n",
       "3     전두환(全斗煥)씨 국회(国会)증언 요지\\n\"도청(道庁)앞 발포(発砲) 상황끝난뒤 보...\n",
       "4     \"루마니아 공산당(共産党) 해체\"\\n【부쿠레슈티=APUPI연합(聯合)】루마니아 공산...\n",
       "5     북한(北韓)외교관 1명 추방\\n자이르정부\\n【킨샤사(자이르)=로이터연합(聯合)】 자...\n",
       "6     전두환(全斗煥)씨 국회(国会)증언 요지\\n논쟁(論爭)우려……정치(政治)자금내역 공개...\n",
       "7     말꿈\"대길(大吉)\"…길운(吉運)부르는 동물\\n경오년(庚午年) 말띠해‥말에 얽힌 이야...\n",
       "8     사설(私說)\\n정감록(鄭鑑録)\\n(306)\\n바람 또 바람 ①\\n유(劉) 현(賢) ...\n",
       "9     중산층—서민(庶民)대중 권익위해 헌신\\n김대중(金大中) 평민당총재\\n 90년은 우리...\n",
       "10    1면서 계속\\n 그는 재임중 정치자금조성문제에대해『기업또는 개인으로부터 정치자금을 ...\n",
       "11    ◇증언(証言)하는 전(全)씨\\n 31일 국회 5공(共)-광주특위(光州特委)에서의 증...\n",
       "12    도덕성(道德性)회복바탕 강한 나라 이룩\\n김재순(金在淳) 국회의장\\n 지금 우리는 ...\n",
       "13    팔(八) 면(面) 봉(鋒)\\n 전두환(全斗煥)씨 증언,내용에 다수가 실망.그렇다고 ...\n",
       "14    새해 내집 꿈\\n 스포츠—레저용품 세일즈맨인이병갑(李秉甲)씨(34·서울 성북구 장위...\n",
       "15    부음(訃音)\\n▲이상태(李相泰)씨(전기통신공사경영기획실부장)부친상(父親喪)=30일오...\n",
       "16    내일 의경기(競技)\\n농구\\n 대잔치4차대회▲코오롱—상업은행 (여지부·오후2시)▲남...\n",
       "17    ◇올해부터 서해안개발관련 각종 공사가 본격 착수돼「서해안시대」에 한걸음 다가가게 될...\n",
       "18    ◇취재차량 육탄(肉彈)저지\\n 31일 오전5시쯤 전두환(全斗煥)씨가탄 승용차가 백담...\n",
       "19    스포츠 게시판\\n3일 체육부 시무식\\n▲체육부는 3일 15층회의실에서 김집(金潗)장...\n",
       "20    당직(党職) 주내(週內)대폭개편\\n민정(民正),대표(代表)임명‥3역(役)도 바꿔\\n...\n",
       "21    전두환(全斗煥)씨국회(国会)증언 요지\\n5공특위(共特委)\\n「일해(日海)」관련 기업...\n",
       "22    \"가만히 내버려 다오\"\\n부패—독선속 문화청정(文化清淨) 기대못해\\n「조선(朝鮮)정...\n",
       "23    새부대에 새술 담듯이\\n박 현 태\\n높이올라 멀리봐야\\n 30수년의 애독자로서 90...\n",
       "24    \"사회주의(社会主義) 실패했다\"\\n영(英)대처총리(總理) 신년사\\n【런던=AFP연합...\n",
       "25    ◇신정연휴(新正連休) 2일동안 휴간(休刊)\\n4일자(목(木))부터 정상(正常)발행 ...\n",
       "26                                         ◇최인호(崔仁浩)씨\\n\n",
       "27    광주(光州) 첨단산업기지 230억들여 첫삽\\n43개 서해안대역사(大役事) 시작된다\\...\n",
       "28                                            야로씨\\n오룡\\n\n",
       "29    올지방(地方)예산 작년보다 51%늘려\\n7조2천8백억 확정\\n 내무부는 30일 부산...\n",
       "30    90년도 신춘문예(新春文藝) 당선작(当選作)\\n사고(社告)\\n 1990년도 조선일보...\n",
       "31    \"변명…부인(否認)…진실규명 미흡\"\\n전(全)씨 증언자정(子正)넘게 TV보다 끝내분...\n",
       "32    전철불통(不通)…2만여명소동\\n시흥(始興)서 단전(断電)‥ 승객,역사(驛舍)유리깨며...\n",
       "33    7차례정회(停会) 아까운 시간낭비\\n전(全)씨 국회증언(証言) 하던 날\\n\"정치(政...\n",
       "34    무너뜨려야할 그많은 벽(壁)，벽(壁)…\\n연(年) 두(頭) 사(辞)\\n일(一)\\n ...\n",
       "35    민주(民主) 개혁작업 힘차게 추진해야\\n김영삼(金泳三) 민주당총재\\n 개방과 화해라...\n",
       "36    전두환(全斗煥)씨 국회(国会)증언 요지\\n6면서 계속\\n자위권(自衛権) 계엄사(司)...\n",
       "37    미(美)의「람보 증세」\\n 첫 단추가 잘못 끼이면 일은 계속 꼬여들게 마련이다.파나...\n",
       "38    \"전직(前職)대통령 증언(証言)으로지난날문제 완전종결\"\\n노(盧)대통령 신년사\\n ...\n",
       "39    전(全)씨,미증언(未証言)부분 기자(記者)들에 낭독\"법적(法的) 책임지겠다\"\\n 전...\n",
       "40    ◇전두환(全斗煥)전대통령의 증언이 이루어진 31일 국회참의원 회의장 2층의 방청석....\n",
       "41    소(蘇) 비공산정당(政党)탄생\\n리투아니아 민주당(民主党)\\n【모스크바=AP연합(聯...\n",
       "42    로마 월드컵\\n스타 퍼레이드\\n①\\n네덜란드의 자존심\\n굴리트\\n3박자 축구 겸비 ...\n",
       "43    큰대회(大会) 줄이은 스포츠’90\\n아시안게임 9월 개막\\n한소(韓蘇) 체육교 류 ...\n",
       "44       ◇87년과 89년 잇따라 유럽 최우수선수로 뽑힌 네덜란드의「검은튤립」루드굴리트.\\n\n",
       "45    \"숨죽인 눈과 귀\"증언(証言)TV중계 쏠려\\n시청률 한때 81%‥시간갈수록 격감\\n...\n",
       "46    \"청문회 운영도 잘못했다감정 치우쳐 목청만 높여\"\\n비난전화 빗발\\n 전두환(全斗煥...\n",
       "47    \"전(全)씨 구속하라\"\\n전민련(全民聯) 성명\\n 전국민족민주운동연합은31일 전두환...\n",
       "48    \"증오 울분 금치못해\"\\n삼청(三淸) 진상규명위\\n 삼청교육 진상규명 전국투쟁위원회...\n",
       "49    여류(女流) 프로 입단대회\\n 〇…한국기원(韓国棋院)은 국내 여성바둑계를 활성화하고...\n",
       "Name: body_archaic_hangul, dtype: object"
      ]
     },
     "execution_count": 9,
     "metadata": {},
     "output_type": "execute_result"
    }
   ],
   "source": [
    "data.head(50)"
   ]
  },
  {
   "cell_type": "code",
   "execution_count": 43,
   "metadata": {},
   "outputs": [],
   "source": [
    "def recognize_hanja(string):\n",
    "    hanja_cnt = 0\n",
    "    hanja_reversed = ''\n",
    "    hangul_cnt = 0\n",
    "    hangul_reversed = ''\n",
    "    hanja_removed_reversed = ''\n",
    "    hanja_words_reversed = []    \n",
    "    \n",
    "    for s in string[::-1]:\n",
    "        if is_hanja(s):\n",
    "            hanja_cnt += 1\n",
    "            hanja_reversed += s\n",
    "        elif hanja_cnt > 0 and is_hangul(s):\n",
    "            hangul_cnt += 1\n",
    "            hangul_reversed += s\n",
    "        \n",
    "            if hanja_cnt != 0 and hangul_cnt != 0 and hangul_cnt == hanja_cnt:\n",
    "                hanja_words_reversed.append(Word(hangul_reversed[::-1], hanja_reversed[::-1]))\n",
    "                hanja_cnt = 0\n",
    "                hanja_reversed = ''\n",
    "                hangul_cnt = 0\n",
    "                hangul_reversed = ''\n",
    "                continue\n",
    "        else:\n",
    "            hanja_removed_reversed += s\n",
    "    \n",
    "    return hanja_words_reversed[::-1], hanja_removed_reversed[::-1]"
   ]
  },
  {
   "cell_type": "code",
   "execution_count": 47,
   "metadata": {},
   "outputs": [
    {
     "name": "stdout",
     "output_type": "stream",
     "text": [
      "[Word(반대, 反對), Word(화해점, 和解點)]\n",
      "젊은이()의 힘 용납할때 () 발견\n"
     ]
    }
   ],
   "source": [
    "hanja_words, hanja_removed_string = recognize_hanja('젊은이반대(反對)의 힘 용납할때 화해점(和解點) 발견')\n",
    "print(hanja_words)\n",
    "print(hanja_removed_string)"
   ]
  },
  {
   "cell_type": "code",
   "execution_count": 51,
   "metadata": {},
   "outputs": [],
   "source": [
    "def parse_noun(string, stemmer):\n",
    "    r = []\n",
    "    e = []\n",
    "    ne = 0\n",
    "    try:\n",
    "        pos = stemmer(string)\n",
    "        for word, tag in pos:\n",
    "            if tag.startswith('N'):\n",
    "                r.append(WordWithPOS(word, None, tag))\n",
    "    except Exception as error:\n",
    "        e.append(error)\n",
    "        ne += 1\n",
    "\n",
    "    if ne > 0:\n",
    "        print(f'number of exceptions: {ne}')\n",
    "        \n",
    "    return r, e"
   ]
  },
  {
   "cell_type": "code",
   "execution_count": 49,
   "metadata": {},
   "outputs": [],
   "source": [
    "kmr = Komoran()\n",
    "kmr_pos = kmr.pos"
   ]
  },
  {
   "cell_type": "code",
   "execution_count": 52,
   "metadata": {},
   "outputs": [
    {
     "name": "stdout",
     "output_type": "stream",
     "text": [
      "[WordWithPOS(젊은이, None, NNG), WordWithPOS(힘, None, NNG), WordWithPOS(용납, None, NNG), WordWithPOS(때, None, NNG), WordWithPOS(발견, None, NNG)]\n"
     ]
    }
   ],
   "source": [
    "parsed, error = parse_noun(hanja_removed_string, kmr_pos)\n",
    "\n",
    "print(parsed)"
   ]
  },
  {
   "cell_type": "code",
   "execution_count": 55,
   "metadata": {},
   "outputs": [],
   "source": [
    "from TOKEN import TOKENS\n",
    "\n",
    "TOKEN = TOKENS['표준국어대사전 API']"
   ]
  },
  {
   "cell_type": "code",
   "execution_count": 73,
   "metadata": {},
   "outputs": [],
   "source": [
    "import requests\n",
    "\n",
    "def API_search_word(query):\n",
    "    url = \"https://stdict.korean.go.kr/api/search.do\"\n",
    "\n",
    "    params = {'key': TOKEN,\n",
    "            'type_search': 'search',\n",
    "            'req_type': 'json',\n",
    "            'q': query}\n",
    "    payload = {}\n",
    "    headers = {}\n",
    "\n",
    "    response = requests.request(\"GET\", url, headers=headers, data=payload, params=params)\n",
    "\n",
    "    if len(response.text) == 0:\n",
    "        return None\n",
    "\n",
    "    return response.json()"
   ]
  },
  {
   "cell_type": "code",
   "execution_count": 71,
   "metadata": {},
   "outputs": [],
   "source": [
    "def API_view_word(target_code):\n",
    "    url = \"https://stdict.korean.go.kr/api/view.do\"\n",
    "    params = {'key': TOKEN,\n",
    "            'type_search': 'view',\n",
    "            'req_type': 'json',\n",
    "            'method': 'TARGET_CODE',\n",
    "            'q': target_code}\n",
    "    payload = {}\n",
    "    headers = {}\n",
    "\n",
    "    response = requests.request(\"GET\", url, headers=headers, data=payload, params=params)\n",
    "\n",
    "    if len(response.text) == 0:\n",
    "        return None\n",
    "\n",
    "    return response.json()"
   ]
  },
  {
   "cell_type": "code",
   "execution_count": 79,
   "metadata": {},
   "outputs": [],
   "source": [
    "def get_first_search_result(word):\n",
    "    result = API_search_word(word)\n",
    "    if result is None:\n",
    "        return None\n",
    "    if 'channel' in result.keys():\n",
    "        channel = result['channel']\n",
    "        if 'item' in channel.keys():\n",
    "            item = channel['item']\n",
    "            if len(item) > 0:\n",
    "                return item[0]\n",
    "    return None"
   ]
  },
  {
   "cell_type": "code",
   "execution_count": 81,
   "metadata": {},
   "outputs": [],
   "source": [
    "def get_first_target_code(word):\n",
    "    result = get_first_search_result(word)\n",
    "    if result is None:\n",
    "        return None\n",
    "    if 'target_code' in result.keys():\n",
    "        return result['target_code']"
   ]
  },
  {
   "cell_type": "code",
   "execution_count": 95,
   "metadata": {},
   "outputs": [],
   "source": [
    "def check_if_hanja_from_target_code(target_code):\n",
    "    if target_code is None:\n",
    "        print(f'target code is None')\n",
    "        return None, None\n",
    "    result = API_view_word(target_code)\n",
    "    if result is None:\n",
    "        print(f'{target_code} cannot be found in 표준국어대사전')\n",
    "        return None, None\n",
    "    if 'channel' in result.keys():\n",
    "        channel = result['channel']\n",
    "        if 'item' in channel.keys():\n",
    "            item = channel['item']\n",
    "            if 'word_info' in item.keys():\n",
    "                word_info = item['word_info']\n",
    "                if 'word_type' in word_info:\n",
    "                    word_type = word_info['word_type']\n",
    "                    if word_type == '한자어':\n",
    "                        if 'original_language_info' in word_info.keys():\n",
    "                            original_language_info = word_info['original_language_info']\n",
    "                            if len(original_language_info) > 0:\n",
    "                                first_original_language_info = original_language_info[0]\n",
    "                                if 'original_language' in first_original_language_info.keys():\n",
    "                                    return True, first_original_language_info['original_language']\n",
    "                    return False, None\n",
    "    return None, None"
   ]
  },
  {
   "cell_type": "code",
   "execution_count": 97,
   "metadata": {},
   "outputs": [],
   "source": [
    "def check_hanja(word):\n",
    "    target_code = get_first_target_code(word)\n",
    "    is_hanja, hanja = check_if_hanja_from_target_code(target_code)\n",
    "    if is_hanja is None:\n",
    "        print(f'{word} cannot be found in 표준국어대사전')\n",
    "        return None\n",
    "    if is_hanja:\n",
    "        return hanja\n",
    "    else:\n",
    "        return None"
   ]
  },
  {
   "cell_type": "code",
   "execution_count": 103,
   "metadata": {},
   "outputs": [
    {
     "data": {
      "text/plain": [
       "'火海'"
      ]
     },
     "execution_count": 103,
     "metadata": {},
     "output_type": "execute_result"
    }
   ],
   "source": [
    "check_hanja('화해')"
   ]
  },
  {
   "cell_type": "code",
   "execution_count": 102,
   "metadata": {},
   "outputs": [],
   "source": [
    "check_hanja('심심')"
   ]
  }
 ],
 "metadata": {
  "kernelspec": {
   "display_name": ".venv",
   "language": "python",
   "name": "python3"
  },
  "language_info": {
   "codemirror_mode": {
    "name": "ipython",
    "version": 3
   },
   "file_extension": ".py",
   "mimetype": "text/x-python",
   "name": "python",
   "nbconvert_exporter": "python",
   "pygments_lexer": "ipython3",
   "version": "3.11.3"
  },
  "orig_nbformat": 4
 },
 "nbformat": 4,
 "nbformat_minor": 2
}
