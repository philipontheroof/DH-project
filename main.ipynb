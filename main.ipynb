{
 "cells": [
  {
   "cell_type": "code",
   "execution_count": 10,
   "metadata": {},
   "outputs": [],
   "source": [
    "!pip freeze > requirements.txt"
   ]
  },
  {
   "cell_type": "code",
   "execution_count": 14,
   "metadata": {},
   "outputs": [],
   "source": [
    "from konlpy.tag import Kkma    # 형태소 분석기 모듈(Hannanum, Kkma, Komoran, Okt)을 탑재\n",
    "from tqdm.notebook import tqdm\n",
    "import pandas as pd"
   ]
  },
  {
   "attachments": {},
   "cell_type": "markdown",
   "metadata": {},
   "source": [
    "#### change csv to parquet"
   ]
  },
  {
   "cell_type": "code",
   "execution_count": 15,
   "metadata": {},
   "outputs": [
    {
     "data": {
      "application/vnd.jupyter.widget-view+json": {
       "model_id": "589c7186238c45179600804baff1a5bd",
       "version_major": 2,
       "version_minor": 0
      },
      "text/plain": [
       "  0%|          | 0/20 [00:00<?, ?it/s]"
      ]
     },
     "metadata": {},
     "output_type": "display_data"
    }
   ],
   "source": [
    "for year in tqdm(range(1980, 2000)):\n",
    "    df = pd.read_csv(f'./data/chosun_{year}.csv')\n",
    "\n",
    "    df.to_parquet(f\"./data/chosun_{year}.parquet\",\n",
    "                  engine=\"pyarrow\", compression=\"gzip\")"
   ]
  },
  {
   "attachments": {},
   "cell_type": "markdown",
   "metadata": {},
   "source": [
    "#### load data"
   ]
  },
  {
   "cell_type": "code",
   "execution_count": 16,
   "metadata": {},
   "outputs": [],
   "source": [
    "df = pd.read_parquet('./data/chosun_1980.parquet')"
   ]
  },
  {
   "attachments": {},
   "cell_type": "markdown",
   "metadata": {},
   "source": [
    "#### analysis"
   ]
  },
  {
   "cell_type": "code",
   "execution_count": 7,
   "metadata": {},
   "outputs": [
    {
     "data": {
      "application/vnd.jupyter.widget-view+json": {
       "model_id": "8db9a2bf25d04606a2ce477896f587e1",
       "version_major": 2,
       "version_minor": 0
      },
      "text/plain": [
       "  0%|          | 0/35907 [00:00<?, ?it/s]"
      ]
     },
     "metadata": {},
     "output_type": "display_data"
    },
    {
     "name": "stdout",
     "output_type": "stream",
     "text": [
      "'utf-8' codec can't decode byte 0xed in position 0: invalid continuation byte\n",
      "본사내방(本社来訪)\n",
      "▲이병희(李秉禧)씨(공화당부의장)▲조진희(趙晋熙)씨(조폐공사(造幣公社)사장)▲이태호(李泰浩)씨(한국수출입은행(韓國輸出入銀行)은행장)▲김건(金建)씨(동전무이사(同專務理事))▲김종섭(金鍾燮)씨(동감사(同監事))▲박승규(朴承圭)씨(환경청장)▲이우진(李愚振)씨(한국청년회의소중앙회장(韓國青年會議所中央會長))▲김정태(金政太)씨(동(同)상임부회장)▲이덕건(李德鍵)씨▲김국승(金國承)씨▲김응서(金應瑞)씨▲윤동렬(尹東烈)씨(동(同)부회장)▲백정환(白晶煥)씨(동사무총장(同事務總長))▲윤흥중(尹興重)씨(동(同)홍보실장)▲최규태(崔圭泰)씨(동(同)의전분과위원장)신임▲주철𤀹(朱鐵𤀹)씨(피어리스상무이사(常務理事))▲이병화(李炳華)씨(태평양화학홍보이사(太平洋化學弘報理事))▲김석년(金石年)씨(주(株))오리콤전무(專務))\n",
      "\n",
      "'utf-8' codec can't decode byte 0xed in position 0: invalid continuation byte\n",
      "조선일보(朝鮮日報) 신춘문예(新春文藝) 당선소설집(小說集) 출간\n",
      "「신인(新人)」들의 문제작(問題作)‥34편 정선(精選)\n",
      " 조선일보사(朝鮮日報社)는 창간60주년기념 출판의 하나로 조선일보문학선서(朝鮮日報文學選書) 제1,2,3집「조선일보(朝鮮日報) 신춘문예당선소설집(新春文藝當選小說集)」전3권을 펴냅니다.한국 신문 최초로 신춘문예 현상공모를시작한 조선일보(朝鮮日報)가 1929년부터 79년까지 약 50년간의신춘문예당(新春文藝當)—입선(入選)소설 70여편중에서 34편을 정선해 모은 소설작품집입니다.여기 수록된 소설들은 그때그때 치열한 경쟁을 통해서 첫째를 차지한,해마다 새로왔던 참신한 신인(新人)들의 문제작(問題作)으로서 한국 현대 단편소설의 발전단계를 몸으로 실중해주는 작품들이기도 합니다.또한 각편마다 그 시대의 사회상(社會相),문학적 특성들이 고루 고루 나타나 있읍니다.30년대 일제치하(日帝治下)에 새로 싹트는 반일(反日)과 근대시민의식(近代市民意識),50~60년대의 전쟁과 전후(戰後)의 궁핍,정치적 혼란,변혁,70년대의 경제성장,안보,안정과 자유(自由)에의 의지와의 갈등들이그때그때 새로운 소설의 시각(視角)을 따라 여실히 펼쳐집니다.애독자 여러분의 성원(聲援)과 편달을 바랍니다.\n",
      "전(全)3권(卷) 값 5,400원\n",
      "<전국유명서점(書店)서발매중>\n",
      "문의처:본사출판판매부(本社出版販賣部) 75-6611~9\n",
      "(교(交))110번(番)73-1734\n",
      "<수록작가(収錄作家) 34명>\n",
      "전춘호(田春湖) 김용송(金龍松) 정순정이영근(鄭順貞李永根) 안𨒿순(安𨒿淳) 현(玄) 홍박영준(鴻朴榮濬) 김유정(金裕貞) 김정한정비석(金廷漢鄭飛石) 김영수(金永壽) 최창대(崔昌大)\n",
      "(이상제1권·396면·1천9백원)\n",
      "전광용(全光鏞) 성학원(成鶴園) 최현식이병구(崔玄植李丙求) 양문길(梁文吉) 박순여김문수(朴順女金文洙) 전상국(全商國) 김수남최인호(金秀男崔仁浩) 이세기(李世基)\n",
      "(이상제2권·356면·값1천8백원)\n",
      "김성종(金聖鍾) 황제영(黄晢暎) 신경득송하춘(辛卿得宋河春) 손용상(孫龍相) 정통일권혁민(鄭統一權赫敏) 박유증(朴裕增) 김만옥이지흔(金萬玉李至欣) 정화혁(鄭化赫)\n",
      "(이상제3권·314면·1천7백원)\n",
      "\n"
     ]
    },
    {
     "ename": "KeyboardInterrupt",
     "evalue": "",
     "output_type": "error",
     "traceback": [
      "\u001b[0;31m---------------------------------------------------------------------------\u001b[0m",
      "\u001b[0;31mKeyboardInterrupt\u001b[0m                         Traceback (most recent call last)",
      "Cell \u001b[0;32mIn[7], line 10\u001b[0m\n\u001b[1;32m      8\u001b[0m \u001b[39mfor\u001b[39;00m text \u001b[39min\u001b[39;00m tqdm(data):\n\u001b[1;32m      9\u001b[0m     \u001b[39mtry\u001b[39;00m:\n\u001b[0;32m---> 10\u001b[0m         pos \u001b[39m=\u001b[39m kkm\u001b[39m.\u001b[39;49mpos(text)\n\u001b[1;32m     11\u001b[0m     \u001b[39mexcept\u001b[39;00m \u001b[39mException\u001b[39;00m \u001b[39mas\u001b[39;00m error:\n\u001b[1;32m     12\u001b[0m         \u001b[39mprint\u001b[39m(error)\n",
      "File \u001b[0;32m~/github/DH-project/.venv/lib/python3.11/site-packages/konlpy/tag/_kkma.py:81\u001b[0m, in \u001b[0;36mKkma.pos\u001b[0;34m(self, phrase, flatten, join)\u001b[0m\n\u001b[1;32m     79\u001b[0m             morphemes\u001b[39m.\u001b[39mappend(morpheme\u001b[39m.\u001b[39mgetString() \u001b[39m+\u001b[39m \u001b[39m'\u001b[39m\u001b[39m/\u001b[39m\u001b[39m'\u001b[39m \u001b[39m+\u001b[39m morpheme\u001b[39m.\u001b[39mgetTag())\n\u001b[1;32m     80\u001b[0m         \u001b[39melse\u001b[39;00m:\n\u001b[0;32m---> 81\u001b[0m             morphemes\u001b[39m.\u001b[39mappend((morpheme\u001b[39m.\u001b[39mgetString(), morpheme\u001b[39m.\u001b[39;49mgetTag()))\n\u001b[1;32m     82\u001b[0m \u001b[39melse\u001b[39;00m:\n\u001b[1;32m     83\u001b[0m     \u001b[39mif\u001b[39;00m join:\n",
      "\u001b[0;31mKeyboardInterrupt\u001b[0m: "
     ]
    }
   ],
   "source": [
    "kkm = Kkma()\n",
    "\n",
    "data = df.loc[:, 'body_archaic_hangul']\n",
    "\n",
    "r = []\n",
    "for text in tqdm(data):\n",
    "    try:\n",
    "        pos = kkm.pos(text)\n",
    "    except Exception as error:\n",
    "        print(error)\n",
    "        print(text)\n",
    "    for word, tag in pos:\n",
    "        if tag.startswith('N'):\n",
    "            r.append((word, tag))"
   ]
  }
 ],
 "metadata": {
  "kernelspec": {
   "display_name": "DH-project",
   "language": "python",
   "name": "python3"
  },
  "language_info": {
   "codemirror_mode": {
    "name": "ipython",
    "version": 3
   },
   "file_extension": ".py",
   "mimetype": "text/x-python",
   "name": "python",
   "nbconvert_exporter": "python",
   "pygments_lexer": "ipython3",
   "version": "3.11.3"
  },
  "orig_nbformat": 4
 },
 "nbformat": 4,
 "nbformat_minor": 2
}
