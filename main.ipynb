{
 "cells": [
  {
   "cell_type": "code",
   "execution_count": 4,
   "metadata": {},
   "outputs": [],
   "source": [
    "from konlpy.tag import Hannanum, Kkma, Komoran, Okt     # 형태소 분석기 모듈(Hannanum, Kkma, Komoran, Okt)을 탑재\n",
    "\n",
    "samples = ['명백히', '드러났다', '가처분 명령', \n",
    "           '가처분명령', '가긍하다', '명백하게' , '명백성']"
   ]
  },
  {
   "cell_type": "code",
   "execution_count": 6,
   "metadata": {},
   "outputs": [
    {
     "name": "stdout",
     "output_type": "stream",
     "text": [
      "한나눔: [('명백히', 'M')]\n",
      "꼬꼬마: [('명백히', 'MAG')]\n",
      "코모란: [('명백히', 'MAG')]\n",
      "트위터: [('명백히', 'Adjective')]\n",
      "\n",
      "한나눔: [('드러나', 'P'), ('아다', 'E')]\n",
      "꼬꼬마: [('드러나', 'VV'), ('었', 'EPT'), ('다', 'EFN')]\n",
      "코모란: [('드러나', 'VV'), ('았', 'EP'), ('다', 'EC')]\n",
      "트위터: [('드러났다', 'Verb')]\n",
      "\n",
      "한나눔: [('가처분', 'N'), ('명령', 'N')]\n",
      "꼬꼬마: [('가처분', 'NNG'), ('명령', 'NNG')]\n",
      "코모란: [('가처분', 'NNP'), ('명령', 'NNP')]\n",
      "트위터: [('가처분', 'Noun'), ('명령', 'Noun')]\n",
      "\n",
      "한나눔: [('가처분명령', 'N')]\n",
      "꼬꼬마: [('가처분', 'NNG'), ('명령', 'NNG')]\n",
      "코모란: [('가처분', 'NNP'), ('명령', 'NNP')]\n",
      "트위터: [('가처분', 'Noun'), ('명령', 'Noun')]\n",
      "\n",
      "한나눔: [('가긍하', 'N'), ('이', 'J'), ('다', 'E')]\n",
      "꼬꼬마: [('가긍', 'XR'), ('하', 'XSA'), ('다', 'EFN')]\n",
      "코모란: [('가긍하다', 'NA')]\n",
      "트위터: [('가긍하', 'Noun'), ('다', 'Josa')]\n",
      "\n",
      "한나눔: [('명백', 'N'), ('하', 'X'), ('게', 'E')]\n",
      "꼬꼬마: [('명백', 'XR'), ('하', 'XSA'), ('게', 'ECD')]\n",
      "코모란: [('명백', 'XR'), ('하', 'XSA'), ('게', 'EC')]\n",
      "트위터: [('명백하게', 'Adjective')]\n",
      "\n",
      "한나눔: [('명백성', 'N')]\n",
      "꼬꼬마: [('명백성', 'NNG')]\n",
      "코모란: [('명', 'NNB'), ('백성', 'NNP')]\n",
      "트위터: [('명백', 'Noun'), ('성', 'Suffix')]\n",
      "\n"
     ]
    }
   ],
   "source": [
    "# konlpy를 사용하기 위해 윈도우 머신에서는 JDK를 다운로드 받아 미리 설치해 놓아야 할 수도 있음(https://kongpowder.tistory.com/60)\n",
    "# 각 형태소 분석기가 품사 태그를 어떻게 정의했는지는 https://docs.google.com/spreadsheets/d/1OGAjUvalBuX-oZvZ_-9tEfYD2gQe7hTGsgUpiiBSXI8/edit#gid=0 참고\n",
    "\n",
    "han = Hannanum()                # 각각의 형태소 분석기(한나눔, 꼬꼬마, 코모란, 트위터)를 초기화\n",
    "kkm = Kkma()\n",
    "kom = Komoran()\n",
    "okt = Okt()\n",
    "for sample in samples:\n",
    "  pos_han = han.pos(sample)       # 각각의 형태소 분석기에서 pos 메서드로 형태소 분석을 실시\n",
    "  pos_kkm = kkm.pos(sample)\n",
    "  pos_kom = kom.pos(sample)\n",
    "  pos_okt = okt.pos(sample)\n",
    "\n",
    "  print(f'한나눔: {pos_han}')                  # 형태소 분석 결과를 출력, (형태소, 품사)의 형태로 출력됨\n",
    "  print(f'꼬꼬마: {pos_kkm}')\n",
    "  print(f\"코모란: {pos_kom}\")\n",
    "  print(f'트위터: {pos_okt}')\n",
    "  print()"
   ]
  },
  {
   "cell_type": "code",
   "execution_count": null,
   "metadata": {},
   "outputs": [],
   "source": []
  }
 ],
 "metadata": {
  "kernelspec": {
   "display_name": "DH-project",
   "language": "python",
   "name": "python3"
  },
  "language_info": {
   "codemirror_mode": {
    "name": "ipython",
    "version": 3
   },
   "file_extension": ".py",
   "mimetype": "text/x-python",
   "name": "python",
   "nbconvert_exporter": "python",
   "pygments_lexer": "ipython3",
   "version": "3.11.3"
  },
  "orig_nbformat": 4
 },
 "nbformat": 4,
 "nbformat_minor": 2
}
