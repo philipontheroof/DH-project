{
 "cells": [
  {
   "cell_type": "code",
   "execution_count": 3,
   "metadata": {},
   "outputs": [
    {
     "name": "stdout",
     "output_type": "stream",
     "text": [
      "Number of lines in document:\n",
      "356\n",
      "Batch tagging:\n",
      "5.7110443115234375\n",
      "Concurrent tagging:\n"
     ]
    },
    {
     "name": "stderr",
     "output_type": "stream",
     "text": [
      "/var/folders/vm/gl7wrnv94t11c0w_b6_qby0w0000gn/T/ipykernel_26288/211319985.py:8: DeprecationWarning: jpype._core.attachThreadToJVM is deprecated, use java.lang.Thread.attach instead\n",
      "  jpype.attachThreadToJVM()\n"
     ]
    },
    {
     "name": "stdout",
     "output_type": "stream",
     "text": [
      "1.5633440017700195\n"
     ]
    }
   ],
   "source": [
    "from konlpy.tag import Kkma\n",
    "from konlpy.corpus import kolaw\n",
    "from threading import Thread\n",
    "import time\n",
    "import jpype\n",
    "\n",
    "def do_concurrent_tagging(start, end, lines, result):\n",
    "    jpype.attachThreadToJVM()\n",
    "    l = [k.pos(lines[i]) for i in range(start, end)]\n",
    "    result.append(l)\n",
    "    return\n",
    "\n",
    "if __name__==\"__main__\":\n",
    "    import time\n",
    "\n",
    "    print('Number of lines in document:')\n",
    "    k = Kkma()\n",
    "    lines = kolaw.open('constitution.txt').read().splitlines()\n",
    "    nlines = len(lines)\n",
    "    print(nlines)\n",
    "\n",
    "    print('Batch tagging:')\n",
    "    s = time.time()\n",
    "    result = []\n",
    "    l = [k.pos(line) for line in lines]\n",
    "    result.append(l)\n",
    "    t = time.time()\n",
    "    print(t - s)\n",
    "\n",
    "    print('Concurrent tagging:')\n",
    "    result = []\n",
    "    t1 = Thread(target=do_concurrent_tagging, args=(0, int(nlines/2), lines, result))\n",
    "    t2 = Thread(target=do_concurrent_tagging, args=(int(nlines/2), nlines, lines, result))\n",
    "    t1.start(); t2.start()\n",
    "    t1.join(); t2.join()\n",
    "\n",
    "    m = sum(result, []) # Merge results\n",
    "    print(time.time() - t)"
   ]
  }
 ],
 "metadata": {
  "kernelspec": {
   "display_name": ".venv",
   "language": "python",
   "name": "python3"
  },
  "language_info": {
   "codemirror_mode": {
    "name": "ipython",
    "version": 3
   },
   "file_extension": ".py",
   "mimetype": "text/x-python",
   "name": "python",
   "nbconvert_exporter": "python",
   "pygments_lexer": "ipython3",
   "version": "3.11.3"
  },
  "orig_nbformat": 4
 },
 "nbformat": 4,
 "nbformat_minor": 2
}
