{
 "cells": [
  {
   "cell_type": "code",
   "execution_count": 2,
   "metadata": {},
   "outputs": [],
   "source": [
    "!pip freeze > requirements.txt"
   ]
  },
  {
   "cell_type": "code",
   "execution_count": 8,
   "metadata": {},
   "outputs": [],
   "source": [
    "from konlpy.tag import Kkma, Komoran # 형태소 분석기 모듈(Hannanum, Kkma, Komoran, Okt)을 탑재\n",
    "from tqdm.notebook import tqdm\n",
    "import pandas as pd"
   ]
  },
  {
   "attachments": {},
   "cell_type": "markdown",
   "metadata": {},
   "source": [
    "#### change csv to parquet"
   ]
  },
  {
   "cell_type": "code",
   "execution_count": 15,
   "metadata": {},
   "outputs": [
    {
     "data": {
      "application/vnd.jupyter.widget-view+json": {
       "model_id": "589c7186238c45179600804baff1a5bd",
       "version_major": 2,
       "version_minor": 0
      },
      "text/plain": [
       "  0%|          | 0/20 [00:00<?, ?it/s]"
      ]
     },
     "metadata": {},
     "output_type": "display_data"
    }
   ],
   "source": [
    "for year in tqdm(range(1980, 2000)):\n",
    "    df = pd.read_csv(f'./data/chosun_{year}.csv')\n",
    "\n",
    "    df.to_parquet(f\"./data/chosun_{year}.parquet\",\n",
    "                  engine=\"pyarrow\", compression=\"gzip\")"
   ]
  },
  {
   "attachments": {},
   "cell_type": "markdown",
   "metadata": {},
   "source": [
    "#### load data"
   ]
  },
  {
   "cell_type": "code",
   "execution_count": 6,
   "metadata": {},
   "outputs": [
    {
     "ename": "TypeError",
     "evalue": "read_table() got an unexpected keyword argument 'encoding_errors'",
     "output_type": "error",
     "traceback": [
      "\u001b[0;31m---------------------------------------------------------------------------\u001b[0m",
      "\u001b[0;31mTypeError\u001b[0m                                 Traceback (most recent call last)",
      "Cell \u001b[0;32mIn[6], line 1\u001b[0m\n\u001b[0;32m----> 1\u001b[0m df \u001b[39m=\u001b[39m pd\u001b[39m.\u001b[39;49mread_parquet(\u001b[39m'\u001b[39;49m\u001b[39m./data/chosun_1980.parquet\u001b[39;49m\u001b[39m'\u001b[39;49m, encoding_errors\u001b[39m=\u001b[39;49m\u001b[39m'\u001b[39;49m\u001b[39mignore\u001b[39;49m\u001b[39m'\u001b[39;49m)\n",
      "File \u001b[0;32m~/github/DH-project/.venv/lib/python3.11/site-packages/pandas/io/parquet.py:509\u001b[0m, in \u001b[0;36mread_parquet\u001b[0;34m(path, engine, columns, storage_options, use_nullable_dtypes, dtype_backend, **kwargs)\u001b[0m\n\u001b[1;32m    506\u001b[0m     use_nullable_dtypes \u001b[39m=\u001b[39m \u001b[39mFalse\u001b[39;00m\n\u001b[1;32m    507\u001b[0m check_dtype_backend(dtype_backend)\n\u001b[0;32m--> 509\u001b[0m \u001b[39mreturn\u001b[39;00m impl\u001b[39m.\u001b[39;49mread(\n\u001b[1;32m    510\u001b[0m     path,\n\u001b[1;32m    511\u001b[0m     columns\u001b[39m=\u001b[39;49mcolumns,\n\u001b[1;32m    512\u001b[0m     storage_options\u001b[39m=\u001b[39;49mstorage_options,\n\u001b[1;32m    513\u001b[0m     use_nullable_dtypes\u001b[39m=\u001b[39;49muse_nullable_dtypes,\n\u001b[1;32m    514\u001b[0m     dtype_backend\u001b[39m=\u001b[39;49mdtype_backend,\n\u001b[1;32m    515\u001b[0m     \u001b[39m*\u001b[39;49m\u001b[39m*\u001b[39;49mkwargs,\n\u001b[1;32m    516\u001b[0m )\n",
      "File \u001b[0;32m~/github/DH-project/.venv/lib/python3.11/site-packages/pandas/io/parquet.py:227\u001b[0m, in \u001b[0;36mPyArrowImpl.read\u001b[0;34m(self, path, columns, use_nullable_dtypes, dtype_backend, storage_options, **kwargs)\u001b[0m\n\u001b[1;32m    220\u001b[0m path_or_handle, handles, kwargs[\u001b[39m\"\u001b[39m\u001b[39mfilesystem\u001b[39m\u001b[39m\"\u001b[39m] \u001b[39m=\u001b[39m _get_path_or_handle(\n\u001b[1;32m    221\u001b[0m     path,\n\u001b[1;32m    222\u001b[0m     kwargs\u001b[39m.\u001b[39mpop(\u001b[39m\"\u001b[39m\u001b[39mfilesystem\u001b[39m\u001b[39m\"\u001b[39m, \u001b[39mNone\u001b[39;00m),\n\u001b[1;32m    223\u001b[0m     storage_options\u001b[39m=\u001b[39mstorage_options,\n\u001b[1;32m    224\u001b[0m     mode\u001b[39m=\u001b[39m\u001b[39m\"\u001b[39m\u001b[39mrb\u001b[39m\u001b[39m\"\u001b[39m,\n\u001b[1;32m    225\u001b[0m )\n\u001b[1;32m    226\u001b[0m \u001b[39mtry\u001b[39;00m:\n\u001b[0;32m--> 227\u001b[0m     pa_table \u001b[39m=\u001b[39m \u001b[39mself\u001b[39;49m\u001b[39m.\u001b[39;49mapi\u001b[39m.\u001b[39;49mparquet\u001b[39m.\u001b[39;49mread_table(\n\u001b[1;32m    228\u001b[0m         path_or_handle, columns\u001b[39m=\u001b[39;49mcolumns, \u001b[39m*\u001b[39;49m\u001b[39m*\u001b[39;49mkwargs\n\u001b[1;32m    229\u001b[0m     )\n\u001b[1;32m    230\u001b[0m     result \u001b[39m=\u001b[39m pa_table\u001b[39m.\u001b[39mto_pandas(\u001b[39m*\u001b[39m\u001b[39m*\u001b[39mto_pandas_kwargs)\n\u001b[1;32m    232\u001b[0m     \u001b[39mif\u001b[39;00m manager \u001b[39m==\u001b[39m \u001b[39m\"\u001b[39m\u001b[39marray\u001b[39m\u001b[39m\"\u001b[39m:\n",
      "\u001b[0;31mTypeError\u001b[0m: read_table() got an unexpected keyword argument 'encoding_errors'"
     ]
    }
   ],
   "source": [
    "df = pd.read_parquet('./data/chosun_1980.parquet')"
   ]
  },
  {
   "cell_type": "code",
   "execution_count": 7,
   "metadata": {},
   "outputs": [],
   "source": [
    "df = pd.read_csv(f'./data/chosun_1980.csv', encoding='utf-8', encoding_errors='ignore')"
   ]
  },
  {
   "cell_type": "code",
   "execution_count": null,
   "metadata": {},
   "outputs": [],
   "source": [
    "data = df.loc[:, 'body_archaic_hangul']\n",
    "N = len(data)\n",
    "d = 2\n",
    "r = []\n",
    "for i in range(1, d+1):\n",
    "    "
   ]
  },
  {
   "attachments": {},
   "cell_type": "markdown",
   "metadata": {},
   "source": [
    "#### analysis"
   ]
  },
  {
   "cell_type": "code",
   "execution_count": 9,
   "metadata": {},
   "outputs": [
    {
     "data": {
      "application/vnd.jupyter.widget-view+json": {
       "model_id": "b560226c469b4240b348e39fbe5b8fa9",
       "version_major": 2,
       "version_minor": 0
      },
      "text/plain": [
       "  0%|          | 0/35907 [00:00<?, ?it/s]"
      ]
     },
     "metadata": {},
     "output_type": "display_data"
    },
    {
     "name": "stdout",
     "output_type": "stream",
     "text": [
      "'utf-8' codec can't decode byte 0xed in position 0: invalid continuation byte\n",
      "조선일보(朝鮮日報) 신춘문예(新春文藝) 당선소설집(小說集) 출간\n",
      "「신인(新人)」들의 문제작(問題作)‥34편 정선(精選)\n",
      " 조선일보사(朝鮮日報社)는 창간60주년기념 출판의 하나로 조선일보문학선서(朝鮮日報文學選書) 제1,2,3집「조선일보(朝鮮日報) 신춘문예당선소설집(新春文藝當選小說集)」전3권을 펴냅니다.한국 신문 최초로 신춘문예 현상공모를시작한 조선일보(朝鮮日報)가 1929년부터 79년까지 약 50년간의신춘문예당(新春文藝當)—입선(入選)소설 70여편중에서 34편을 정선해 모은 소설작품집입니다.여기 수록된 소설들은 그때그때 치열한 경쟁을 통해서 첫째를 차지한,해마다 새로왔던 참신한 신인(新人)들의 문제작(問題作)으로서 한국 현대 단편소설의 발전단계를 몸으로 실중해주는 작품들이기도 합니다.또한 각편마다 그 시대의 사회상(社會相),문학적 특성들이 고루 고루 나타나 있읍니다.30년대 일제치하(日帝治下)에 새로 싹트는 반일(反日)과 근대시민의식(近代市民意識),50~60년대의 전쟁과 전후(戰後)의 궁핍,정치적 혼란,변혁,70년대의 경제성장,안보,안정과 자유(自由)에의 의지와의 갈등들이그때그때 새로운 소설의 시각(視角)을 따라 여실히 펼쳐집니다.애독자 여러분의 성원(聲援)과 편달을 바랍니다.\n",
      "전(全)3권(卷) 값 5,400원\n",
      "<전국유명서점(書店)서발매중>\n",
      "문의처:본사출판판매부(本社出版販賣部) 75-6611~9\n",
      "(교(交))110번(番)73-1734\n",
      "<수록작가(収錄作家) 34명>\n",
      "전춘호(田春湖) 김용송(金龍松) 정순정이영근(鄭順貞李永根) 안𨒿순(安𨒿淳) 현(玄) 홍박영준(鴻朴榮濬) 김유정(金裕貞) 김정한정비석(金廷漢鄭飛石) 김영수(金永壽) 최창대(崔昌大)\n",
      "(이상제1권·396면·1천9백원)\n",
      "전광용(全光鏞) 성학원(成鶴園) 최현식이병구(崔玄植李丙求) 양문길(梁文吉) 박순여김문수(朴順女金文洙) 전상국(全商國) 김수남최인호(金秀男崔仁浩) 이세기(李世基)\n",
      "(이상제2권·356면·값1천8백원)\n",
      "김성종(金聖鍾) 황제영(黄晢暎) 신경득송하춘(辛卿得宋河春) 손용상(孫龍相) 정통일권혁민(鄭統一權赫敏) 박유증(朴裕增) 김만옥이지흔(金萬玉李至欣) 정화혁(鄭化赫)\n",
      "(이상제3권·314면·1천7백원)\n",
      "\n"
     ]
    },
    {
     "ename": "KeyboardInterrupt",
     "evalue": "",
     "output_type": "error",
     "traceback": [
      "\u001b[0;31m---------------------------------------------------------------------------\u001b[0m",
      "\u001b[0;31mKeyboardInterrupt\u001b[0m                         Traceback (most recent call last)",
      "Cell \u001b[0;32mIn[9], line 8\u001b[0m\n\u001b[1;32m      6\u001b[0m \u001b[39mfor\u001b[39;00m text \u001b[39min\u001b[39;00m tqdm(data):\n\u001b[1;32m      7\u001b[0m     \u001b[39mtry\u001b[39;00m:\n\u001b[0;32m----> 8\u001b[0m         pos \u001b[39m=\u001b[39m kom\u001b[39m.\u001b[39;49mpos(text)\n\u001b[1;32m      9\u001b[0m     \u001b[39mexcept\u001b[39;00m \u001b[39mException\u001b[39;00m \u001b[39mas\u001b[39;00m error:\n\u001b[1;32m     10\u001b[0m         \u001b[39mprint\u001b[39m(error)\n",
      "File \u001b[0;32m~/github/DH-project/.venv/lib/python3.11/site-packages/konlpy/tag/_komoran.py:93\u001b[0m, in \u001b[0;36mKomoran.pos\u001b[0;34m(self, phrase, flatten, join)\u001b[0m\n\u001b[1;32m     91\u001b[0m     \u001b[39mcontinue\u001b[39;00m\n\u001b[1;32m     92\u001b[0m result \u001b[39m=\u001b[39m \u001b[39mself\u001b[39m\u001b[39m.\u001b[39mjki\u001b[39m.\u001b[39manalyze(sentence)\u001b[39m.\u001b[39mgetTokenList()\n\u001b[0;32m---> 93\u001b[0m result \u001b[39m=\u001b[39m [(token\u001b[39m.\u001b[39;49mgetMorph(), token\u001b[39m.\u001b[39;49mgetPos()) \u001b[39mfor\u001b[39;49;00m token \u001b[39min\u001b[39;49;00m result]\n\u001b[1;32m     95\u001b[0m \u001b[39mif\u001b[39;00m join:\n\u001b[1;32m     96\u001b[0m     result \u001b[39m=\u001b[39m [\u001b[39m'\u001b[39m\u001b[39m{}\u001b[39;00m\u001b[39m/\u001b[39m\u001b[39m{}\u001b[39;00m\u001b[39m'\u001b[39m\u001b[39m.\u001b[39mformat(morph, pos) \u001b[39mfor\u001b[39;00m morph, pos \u001b[39min\u001b[39;00m result]\n",
      "File \u001b[0;32m~/github/DH-project/.venv/lib/python3.11/site-packages/konlpy/tag/_komoran.py:93\u001b[0m, in \u001b[0;36m<listcomp>\u001b[0;34m(.0)\u001b[0m\n\u001b[1;32m     91\u001b[0m     \u001b[39mcontinue\u001b[39;00m\n\u001b[1;32m     92\u001b[0m result \u001b[39m=\u001b[39m \u001b[39mself\u001b[39m\u001b[39m.\u001b[39mjki\u001b[39m.\u001b[39manalyze(sentence)\u001b[39m.\u001b[39mgetTokenList()\n\u001b[0;32m---> 93\u001b[0m result \u001b[39m=\u001b[39m [(token\u001b[39m.\u001b[39mgetMorph(), token\u001b[39m.\u001b[39mgetPos()) \u001b[39mfor\u001b[39;00m token \u001b[39min\u001b[39;00m result]\n\u001b[1;32m     95\u001b[0m \u001b[39mif\u001b[39;00m join:\n\u001b[1;32m     96\u001b[0m     result \u001b[39m=\u001b[39m [\u001b[39m'\u001b[39m\u001b[39m{}\u001b[39;00m\u001b[39m/\u001b[39m\u001b[39m{}\u001b[39;00m\u001b[39m'\u001b[39m\u001b[39m.\u001b[39mformat(morph, pos) \u001b[39mfor\u001b[39;00m morph, pos \u001b[39min\u001b[39;00m result]\n",
      "File \u001b[0;32m~/github/DH-project/.venv/lib/python3.11/site-packages/jpype/_jcollection.py:254\u001b[0m, in \u001b[0;36m_JIterator.__next__\u001b[0;34m(self)\u001b[0m\n\u001b[1;32m    252\u001b[0m \u001b[39mdef\u001b[39;00m \u001b[39m__next__\u001b[39m(\u001b[39mself\u001b[39m):\n\u001b[1;32m    253\u001b[0m     \u001b[39mif\u001b[39;00m \u001b[39mself\u001b[39m\u001b[39m.\u001b[39mhasNext():\n\u001b[0;32m--> 254\u001b[0m         \u001b[39mreturn\u001b[39;00m \u001b[39mself\u001b[39;49m\u001b[39m.\u001b[39;49mnext()\n\u001b[1;32m    255\u001b[0m     \u001b[39mraise\u001b[39;00m \u001b[39mStopIteration\u001b[39;00m\n",
      "\u001b[0;31mKeyboardInterrupt\u001b[0m: "
     ]
    }
   ],
   "source": [
    "kom = Komoran()\n",
    "\n",
    "data = df.loc[:, 'body_archaic_hangul']\n",
    "\n",
    "r = []\n",
    "for text in tqdm(data):\n",
    "    try:\n",
    "        pos = kom.pos(text)\n",
    "    except Exception as error:\n",
    "        print(error)\n",
    "        print(text)\n",
    "    for word, tag in pos:\n",
    "        if tag.startswith('N'):\n",
    "            r.append((word, tag))"
   ]
  },
  {
   "cell_type": "code",
   "execution_count": null,
   "metadata": {},
   "outputs": [],
   "source": []
  },
  {
   "cell_type": "code",
   "execution_count": 12,
   "metadata": {},
   "outputs": [],
   "source": [
    "from concurrent import futures\n",
    "import time\n",
    "\n",
    "def pos_parse(i, data):\n",
    "    kkm = Kkma()\n",
    "    r = []\n",
    "    for text in tqdm(data, position=i):\n",
    "        try:\n",
    "            pos = kkm.pos(text)\n",
    "        except Exception as error:\n",
    "            print(error)\n",
    "            print(text)\n",
    "        for word, tag in pos:\n",
    "            if tag.startswith('N'):\n",
    "                r.append((word, tag))\n",
    "    return i, r"
   ]
  },
  {
   "cell_type": "code",
   "execution_count": null,
   "metadata": {},
   "outputs": [],
   "source": []
  },
  {
   "cell_type": "code",
   "execution_count": 11,
   "metadata": {},
   "outputs": [
    {
     "name": "stdout",
     "output_type": "stream",
     "text": [
      "[2] 0[0] 0\n",
      "\n",
      "[1] 0\n",
      "[0] 1\n",
      "[1] 1\n",
      "[2] 1\n",
      "[0] 2\n",
      "[1] 2\n",
      "[2] 2\n",
      "[0] 3[1] 3\n",
      "[2] 3\n",
      "\n",
      "[1] 4\n",
      "[2] 4\n",
      "[0] 4\n",
      "[1] 5\n",
      "[2] 5\n",
      "[0] 5\n",
      "[1] 6\n",
      "[2] 6\n",
      "[0] 6\n",
      "[1] 7[2] 7\n",
      "\n",
      "[0] 7\n",
      "[1] 8\n",
      "[2] 8\n",
      "[0] 8\n",
      "[1] 9[0] 9\n",
      "thread 0 exit\n",
      "\n",
      "thread 1 exit\n",
      "[2] 9\n",
      "thread 2 exit\n",
      "CPU times: user 3.94 ms, sys: 2.89 ms, total: 6.83 ms\n",
      "Wall time: 1.03 s\n"
     ]
    }
   ],
   "source": [
    "%%time\n",
    "with futures.ThreadPoolExecutor() as executor:\n",
    "    results = [executor.submit(sum, i, 10) for i in range(3)]"
   ]
  },
  {
   "cell_type": "code",
   "execution_count": 5,
   "metadata": {},
   "outputs": [
    {
     "name": "stdout",
     "output_type": "stream",
     "text": [
      "(0, 45)\n",
      "(2, 45)\n",
      "(1, 45)\n",
      "main exits\n"
     ]
    }
   ],
   "source": [
    "for f in futures.as_completed(results):\n",
    "    print(f.result())\n",
    "\n",
    "\n",
    "print('main exits')"
   ]
  },
  {
   "cell_type": "code",
   "execution_count": 16,
   "metadata": {},
   "outputs": [],
   "source": [
    "def pos_parse(i, data):\n",
    "    kkm = Kkma()\n",
    "    r = []\n",
    "    for text in tqdm(data, position=i):\n",
    "        try:\n",
    "            pos = kkm.pos(text)\n",
    "        except Exception as error:\n",
    "            print(error)\n",
    "            print(text)\n",
    "        for word, tag in pos:\n",
    "            if tag.startswith('N'):\n",
    "                r.append((word, tag))\n",
    "    return i, r"
   ]
  },
  {
   "cell_type": "code",
   "execution_count": 6,
   "metadata": {},
   "outputs": [],
   "source": [
    "df = df.loc[:, 'body_archaic_hangul']\n"
   ]
  },
  {
   "cell_type": "code",
   "execution_count": null,
   "metadata": {},
   "outputs": [],
   "source": [
    "N = len(df)\n",
    "data = df[:100]\n",
    "\n",
    "r = pos_parse(0, data)"
   ]
  },
  {
   "cell_type": "code",
   "execution_count": 31,
   "metadata": {},
   "outputs": [],
   "source": [
    "r = r[1]\n",
    "res = []\n",
    "for word, tag in r:\n",
    "    if not tag.startswith('NNB'):\n",
    "        res.append((word, tag))"
   ]
  },
  {
   "cell_type": "code",
   "execution_count": 32,
   "metadata": {},
   "outputs": [
    {
     "data": {
      "text/plain": [
       "[(('의', 'NNG'), 207),\n",
       " (('우리', 'NP'), 191),\n",
       " (('이', 'NNG'), 140),\n",
       " (('을', 'NNG'), 129),\n",
       " (('국민', 'NNG'), 120),\n",
       " (('문제', 'NNG'), 120),\n",
       " (('때', 'NNG'), 114),\n",
       " (('순리', 'NNG'), 113),\n",
       " (('사회', 'NNG'), 111),\n",
       " (('1', 'NR'), 108),\n",
       " (('80', 'NR'), 100),\n",
       " (('말', 'NNG'), 99),\n",
       " (('일', 'NNM'), 98),\n",
       " (('김', 'NNG'), 95),\n",
       " (('생각', 'NNG'), 91),\n",
       " (('년', 'NNM'), 90),\n",
       " (('사람', 'NNG'), 89),\n",
       " (('일', 'NNG'), 88),\n",
       " (('경제', 'NNG'), 86),\n",
       " (('3', 'NR'), 86),\n",
       " (('나', 'NP'), 84),\n",
       " (('2', 'NR'), 81),\n",
       " (('새해', 'NNG'), 79),\n",
       " (('년대', 'NNM'), 78),\n",
       " (('정치', 'NNG'), 77),\n",
       " (('그', 'NP'), 67),\n",
       " (('백', 'NR'), 65),\n",
       " (('대통령', 'NNG'), 64),\n",
       " (('역사', 'NNG'), 64),\n",
       " (('정부', 'NNG'), 63),\n",
       " (('명', 'NNM'), 60),\n",
       " (('앞', 'NNG'), 60),\n",
       " (('발전', 'NNG'), 56),\n",
       " (('그것', 'NP'), 55),\n",
       " (('안정', 'NNG'), 55),\n",
       " (('은', 'NNG'), 55),\n",
       " (('천', 'NR'), 53),\n",
       " (('만', 'NR'), 52),\n",
       " (('성장', 'NNG'), 49),\n",
       " (('세계', 'NNG'), 49),\n",
       " (('월', 'NNM'), 49),\n",
       " (('경우', 'NNG'), 48),\n",
       " (('5', 'NR'), 47),\n",
       " (('4', 'NR'), 47),\n",
       " (('현실', 'NNG'), 47),\n",
       " (('저', 'NP'), 44),\n",
       " (('얘기', 'NNG'), 44),\n",
       " (('속', 'NNG'), 43),\n",
       " (('석유', 'NNG'), 43),\n",
       " (('분임', 'NNG'), 43),\n",
       " (('10', 'NR'), 42),\n",
       " (('최', 'NNP'), 42),\n",
       " (('고', 'NNG'), 41),\n",
       " (('국가', 'NNG'), 40),\n",
       " (('개헌', 'NNG'), 40),\n",
       " (('총재', 'NNG'), 40),\n",
       " (('로', 'NNG'), 39),\n",
       " (('원', 'NNM'), 39),\n",
       " (('전망', 'NNG'), 38),\n",
       " (('교수', 'NNG'), 37),\n",
       " (('7', 'NR'), 37),\n",
       " (('과', 'NNG'), 37),\n",
       " (('남', 'NNG'), 37),\n",
       " (('정도', 'NNG'), 36),\n",
       " (('국제', 'NNG'), 36),\n",
       " (('자원', 'NNG'), 36),\n",
       " (('원유', 'NNG'), 35),\n",
       " (('수출', 'NNG'), 35),\n",
       " (('힘', 'NNG'), 35),\n",
       " (('변화', 'NNG'), 34),\n",
       " (('원숭이', 'NNG'), 34),\n",
       " (('경기', 'NNG'), 33),\n",
       " (('전문가', 'NNG'), 33),\n",
       " (('면', 'NNG'), 33),\n",
       " (('30', 'NR'), 33),\n",
       " (('국회', 'NNG'), 33),\n",
       " (('의미', 'NNG'), 33),\n",
       " (('당', 'NNG'), 33),\n",
       " (('필요', 'NNG'), 32),\n",
       " (('이것', 'NP'), 32),\n",
       " (('한국', 'NNG'), 31),\n",
       " (('정', 'NNG'), 31),\n",
       " (('시작', 'NNG'), 31),\n",
       " (('물가', 'NNG'), 30),\n",
       " (('정책', 'NNG'), 30),\n",
       " (('미국', 'NNP'), 30),\n",
       " (('과정', 'NNG'), 30),\n",
       " (('이', 'NP'), 29),\n",
       " (('지금', 'NNG'), 29),\n",
       " (('노력', 'NNG'), 29),\n",
       " (('6', 'NR'), 29),\n",
       " (('가격', 'NNG'), 28),\n",
       " (('시대', 'NNG'), 28),\n",
       " (('미', 'NNG'), 28),\n",
       " (('길', 'NNG'), 28),\n",
       " (('헌법', 'NNG'), 28),\n",
       " (('전', 'NNG'), 28),\n",
       " (('자기', 'NP'), 28),\n",
       " (('도리', 'NNG'), 28),\n",
       " (('미래', 'NNG'), 28)]"
      ]
     },
     "execution_count": 32,
     "metadata": {},
     "output_type": "execute_result"
    }
   ],
   "source": [
    "from collections import Counter\n",
    "Counter(res).most_common(100)"
   ]
  },
  {
   "cell_type": "code",
   "execution_count": 33,
   "metadata": {},
   "outputs": [
    {
     "data": {
      "text/plain": [
       "0     새해 국민(國民)경제 기상(氣象)\\n인플레-실업(失業)……\\n\"먹구름\"예보\\n전례(...\n",
       "1     변혁(变革)의길\\n①\\n개헌(改憲)논의\\n흑백론(黑白論) 판치면 시간(時間)낭비\\n...\n",
       "2     정부(政府)—기업—가계(家計) 힘 뭉쳐야\\n경제(經濟)단체 노사(勞使)협조‥생활 질...\n",
       "3     근로자\\n경영인(人)이 합리적(合理的)이면 우리도 따라\\n 우리나라를 둘러싼 역사의...\n",
       "4     80연도(年度) 신춘문예(新春文藝) 당선작(當選作) 발표\\n사고(社告)\\n 1980...\n",
       "5     대학원(大學院) 정원(定員)늘려\\n80학년도(學年度) 신입생(新入生) 3천2백명 더...\n",
       "6     80연대(年代)「제1막(幕) 1장(場)」을 연다\\n ◇1980년의 새 아침이 밝는다...\n",
       "7     이웃돕기 성금(誠金)\\n일신방직(日新紡織) 3백만원\\n▲(주(株))일신방직(日新紡織...\n",
       "8     1월의 메모\\n▲1일=신정(新正)▲4일=시무식▲6일=소한(小寒)▲8일=이봉창(李奉昌...\n",
       "9              주택복권 당첨번호\\n<제408회>\\n주택복권 당첨번호\\n<제408회>\\n\n",
       "10    ◇본사사령(本社辭令)\\n편집국부국장(編輯局副局長) 조(曺) 영(永) 서(瑞)\\n명(...\n",
       "11    조선일보(朝鮮日報) 창간(創刊) 60주년 기념(紀念)사업\\n조선일보사(朝鮮日報社)\\...\n",
       "12    미래학(未來学) 교수(教授)가 진단하는 한국상(韓国像)\\n80연대(年代)를 그린다\\...\n",
       "13    미래소설(未來小説)에 나타난「80년대 여언(予言)」\\n\"회색(灰色)\"짙은 전운(戰雲...\n",
       "14    설문(設問)으로 엮여본 10제(題)\\n80년대 이렇게 된다…꿈\\n금강산(金剛山) 관...\n",
       "15                     ◇조세형(趙世衡)\\n<국회의원(國會議員)·신민(新民)>\\n\n",
       "16    □의 여언(予言)\"\\n현실(現実)과 바램과‥‥\\n생각하십니까‥‥베를린장벽(障壁)도 ...\n",
       "17                                           ◇앤터니 버지스\\n\n",
       "18                                         ◇이(李) 철(哲)\\n\n",
       "19                                       ◇노재봉(盧在鳳) 교수\\n\n",
       "20                                   ◇박완서(朴婉緖)\\n<소설가>\\n\n",
       "21    80연맥(年脈)\\n<세계쟁점(爭點)을\"노크\"한다>\\n①\\n석유(石油)\\n고유가(高油...\n",
       "22    \"민생(民生) 안정에 최우선정치(最優先政治) 민주화 뒷받침\"\\n6개경제(經濟) 부처...\n",
       "23    정치(政治)발전과 사회(社會)안정을\\n민관식(閔寬植)\\n<국회의장 대리>\\n 민관식...\n",
       "24    기본권(基本權) 보호 신기원(新紀元) 이룩\\n이영섭(李英燮)\\n<대법원장>\\n 이영...\n",
       "25    팔면봉(八面鋒)\\n 세재경신(歲在庚申)의 새 아침.몸도 새롭고 마음도 새롭게,모두 ...\n",
       "26    만물상(萬物相)\\n 경신(庚申)년,원숭이해의 벽두에 원숭이에 대한 이미지쇄신을 할필...\n",
       "27    세계(世界)의표정(表情)\\n31일\\nUPI\\n세계(世界)의표정(表情)\\n31일\\nU...\n",
       "28    단신(短信)\\n서강대(西江大)부총장에 이광린(李光麟)교수\\n▲서강대(西江大)는 동교...\n",
       "29    시누이남편 살해(殺害)미수\\n의사(醫師)부인 무혐의석방(釋放)\\n 〇…서울지검 박상...\n",
       "30    ◇모스크바로 달린다\\n 눈덮인불암산중턱을 뛰어오르며 강훈련을 쌓고 있는 국가대표 여...\n",
       "31                                        야로씨\\n오룡(吳龍)\\n\n",
       "32    날씨\\n<1일>\\n대체로 맑음\\n 고기압의 영향을 받아 중북부지방은 대체로 맑겠으나...\n",
       "33    신(申)총리\"개헌주도권(改憲主導權) 경쟁하는 인상은 잘못\"\\n\"정부안(政府案) 국회...\n",
       "34    기술(技術)검정공단(公團) 이사장\\n기능(技能)올림픽 한위(韓委)회장\\n홍성철(洪性...\n",
       "35    인사(人事)\\n ◇체신부▲기획관리실장배호원(裵浩遠)▲보정국장 강이근(姜二根)▲전파연...\n",
       "36                                    ◇김종필(金鍾泌) 공화당총재\\n\n",
       "37    국립묘지(國立墓地) 참배\\n최(崔)대통령\\n 최규하(崔圭夏)대통령은 31일 오후부인...\n",
       "38    선거법(選擧法)개정특위(特委) 설치 합의\\n여(與)—야총무(野總務),개헌(改憲)작업...\n",
       "39    오늘의 한국(韓國)을 사는 한국인(韓國人)의 상식\\n————이치에 어긋나지 않고 무...\n",
       "40    소(蘇)아프간살군(撒軍) 요구\\n중공(中共) 경고\\n【북동(北東)=AFP동양(東洋)...\n",
       "41    뉴델리서\"카르말은 소(蘇)KGB요원(要員)\"규탄\\n 아프간과 이란학생들을 포함한2백...\n",
       "42    회교권(回敎圈)전역에 반소(反蘇)선풍 확산(擴散)\\n소(蘇),파키스탄까지 위협(威脅...\n",
       "43    김(金)총재 신연휘호(新年揮毫)「유수부쟁선(流水不爭先)」\\n ◇…김종필(金鍾泌)공화...\n",
       "44             ◇송유관 그물로 뒤덮인 사우디 아라비아 최대의 아브카이크유전(油田).\\n\n",
       "45    80연대(年代)를 가는 새한국(韓國)의 발걸음\\n순리(順理)\\n조선일보(朝鮮日報) ...\n",
       "46    농민\\n농사는 농사짓는 사람에 맡겨라\\n 사람이나 동물이나 살다가 죽어 땅에 묻히면...\n",
       "47    정치인(政治人)비록 우회(迂廻)할 망정 민심(民心)을 좇아야\\n 우리가 등산(登山)...\n",
       "48    젊은이반대(反對)의 힘 용납할때 화해점(和解點) 발견\\n 작년 겨울 어느날 저녁의 ...\n",
       "49                                               □ 교수\\n\n",
       "Name: body_archaic_hangul, dtype: object"
      ]
     },
     "execution_count": 33,
     "metadata": {},
     "output_type": "execute_result"
    }
   ],
   "source": [
    "df.head(50)"
   ]
  },
  {
   "cell_type": "code",
   "execution_count": 36,
   "metadata": {},
   "outputs": [
    {
     "data": {
      "text/plain": [
       "[('젊은이', 'NNG'),\n",
       " ('반대', 'NNG'),\n",
       " ('(', 'SS'),\n",
       " ('反對', 'OH'),\n",
       " (')', 'SS'),\n",
       " ('의', 'NNG'),\n",
       " ('힘', 'NNG'),\n",
       " ('용납', 'NNG'),\n",
       " ('하', 'XSV'),\n",
       " ('ㄹ', 'ETD'),\n",
       " ('때', 'NNG'),\n",
       " ('화해', 'NNG'),\n",
       " ('점', 'NNG'),\n",
       " ('(', 'SS'),\n",
       " ('和解點', 'OH'),\n",
       " (')', 'SS'),\n",
       " ('발견', 'NNG')]"
      ]
     },
     "execution_count": 36,
     "metadata": {},
     "output_type": "execute_result"
    }
   ],
   "source": [
    "kkm = Kkma()\n",
    "\n",
    "kkm.pos('젊은이반대(反對)의 힘 용납할때 화해점(和解點) 발견')"
   ]
  },
  {
   "cell_type": "code",
   "execution_count": 45,
   "metadata": {},
   "outputs": [],
   "source": [
    "import hanja\n",
    "from hanja import hangul"
   ]
  },
  {
   "cell_type": "code",
   "execution_count": 49,
   "metadata": {},
   "outputs": [],
   "source": [
    "# TODO: implement in reverse order\n",
    "# TODO: return hanja removed string\n",
    "def hanja_parse(string):\n",
    "    i = 0\n",
    "    r = []\n",
    "    while i < len(string):\n",
    "        if hanja.is_hanja(string[i]):\n",
    "            hanja_cnt = 1\n",
    "            hanja_word = string[i]\n",
    "            j = i + 1\n",
    "            while hanja.is_hanja(string[j]):\n",
    "                hanja_word += string[j]\n",
    "                hanja_cnt += 1\n",
    "                j += 1\n",
    "            hangul_cnt = 0\n",
    "            hangul_word = ''\n",
    "            for k in range(i, -1, -1):\n",
    "                s = string[k]\n",
    "                if hangul.is_hangul(s):\n",
    "                    hangul_word += s\n",
    "                    hangul_cnt += 1\n",
    "\n",
    "                    if hangul_cnt >= hanja_cnt:\n",
    "                        break\n",
    "            r.append((hangul_word[::-1], hanja_word))\n",
    "            i = j\n",
    "        else:\n",
    "            i += 1\n",
    "    return r"
   ]
  },
  {
   "cell_type": "code",
   "execution_count": 64,
   "metadata": {},
   "outputs": [
    {
     "data": {
      "text/plain": [
       "[('젊은이', 'NNG'),\n",
       " ('반대', 'NNG'),\n",
       " ('의', 'NNG'),\n",
       " ('힘', 'NNG'),\n",
       " ('용납', 'NNG'),\n",
       " ('때', 'NNG'),\n",
       " ('화해', 'NNG'),\n",
       " ('점', 'NNG'),\n",
       " ('발견', 'NNG')]"
      ]
     },
     "execution_count": 64,
     "metadata": {},
     "output_type": "execute_result"
    }
   ],
   "source": [
    "pos_parse('젊은이반대(反對)의 힘 용납할때 화해점(和解點) 발견')"
   ]
  },
  {
   "cell_type": "code",
   "execution_count": 59,
   "metadata": {},
   "outputs": [
    {
     "data": {
      "text/plain": [
       "[('반대', '反對'), ('화해점', '和解點')]"
      ]
     },
     "execution_count": 59,
     "metadata": {},
     "output_type": "execute_result"
    }
   ],
   "source": [
    "hanja_parse('젊은이반대(反對)의 힘 용납할때 화해점(和解點) 발견')"
   ]
  },
  {
   "cell_type": "code",
   "execution_count": 58,
   "metadata": {},
   "outputs": [],
   "source": [
    "def pos_parse(string):\n",
    "    kkm = Kkma()\n",
    "    r = []\n",
    "    try:\n",
    "        pos = kkm.pos(string)\n",
    "    except Exception as error:\n",
    "        print(error)\n",
    "        print(text)\n",
    "    for word, tag in pos:\n",
    "        if tag.startswith('N'):\n",
    "            r.append((word, tag))\n",
    "    return r"
   ]
  },
  {
   "cell_type": "code",
   "execution_count": 7,
   "metadata": {},
   "outputs": [],
   "source": [
    "test = df[11]\n",
    "test *= 100"
   ]
  },
  {
   "cell_type": "code",
   "execution_count": 8,
   "metadata": {},
   "outputs": [],
   "source": [
    "from konlpy.tag import Kkma, Hannanum, Komoran, Okt\n",
    "kkm = Kkma()\n",
    "han = Hannanum()\n",
    "kom = Komoran()\n",
    "okt = Okt()"
   ]
  },
  {
   "cell_type": "code",
   "execution_count": 9,
   "metadata": {},
   "outputs": [
    {
     "name": "stdout",
     "output_type": "stream",
     "text": [
      "16.2 s ± 342 ms per loop (mean ± std. dev. of 7 runs, 1 loop each)\n"
     ]
    }
   ],
   "source": [
    "%%timeit\n",
    "kkm.pos(test)"
   ]
  },
  {
   "cell_type": "code",
   "execution_count": 10,
   "metadata": {},
   "outputs": [
    {
     "name": "stdout",
     "output_type": "stream",
     "text": [
      "7.5 s ± 79.8 ms per loop (mean ± std. dev. of 7 runs, 1 loop each)\n"
     ]
    }
   ],
   "source": [
    "%%timeit\n",
    "han.pos(test)"
   ]
  },
  {
   "cell_type": "code",
   "execution_count": 11,
   "metadata": {},
   "outputs": [
    {
     "name": "stdout",
     "output_type": "stream",
     "text": [
      "897 ms ± 50.2 ms per loop (mean ± std. dev. of 7 runs, 1 loop each)\n"
     ]
    }
   ],
   "source": [
    "%%timeit\n",
    "kom.pos(test)"
   ]
  },
  {
   "cell_type": "code",
   "execution_count": 12,
   "metadata": {},
   "outputs": [
    {
     "name": "stdout",
     "output_type": "stream",
     "text": [
      "1.81 s ± 25.1 ms per loop (mean ± std. dev. of 7 runs, 1 loop each)\n"
     ]
    }
   ],
   "source": [
    "%%timeit\n",
    "okt.pos(test)"
   ]
  },
  {
   "cell_type": "code",
   "execution_count": 15,
   "metadata": {},
   "outputs": [
    {
     "data": {
      "text/plain": [
       "[('킹갓제네럴엠페러충무공마제스티하이퍼울트라판타스틱익스트림지니어스화룡정점마스터더엠비션리마스터성골판타스틱엘라스틱레전더리충무공6인궁',\n",
       "  'NA'),\n",
       " ('윤', 'NNP'),\n",
       " ('필립', 'NNP')]"
      ]
     },
     "execution_count": 15,
     "metadata": {},
     "output_type": "execute_result"
    }
   ],
   "source": [
    "kom.pos('킹갓제네럴엠페러충무공마제스티하이퍼울트라판타스틱익스트림지니어스화룡정점마스터더엠비션리마스터성골판타스틱엘라스틱레전더리충무공6인궁 윤필립')"
   ]
  }
 ],
 "metadata": {
  "kernelspec": {
   "display_name": "DH-project",
   "language": "python",
   "name": "python3"
  },
  "language_info": {
   "codemirror_mode": {
    "name": "ipython",
    "version": 3
   },
   "file_extension": ".py",
   "mimetype": "text/x-python",
   "name": "python",
   "nbconvert_exporter": "python",
   "pygments_lexer": "ipython3",
   "version": "3.11.3"
  },
  "orig_nbformat": 4
 },
 "nbformat": 4,
 "nbformat_minor": 2
}
